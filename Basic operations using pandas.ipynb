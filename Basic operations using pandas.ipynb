{
 "cells": [
  {
   "cell_type": "markdown",
   "id": "7024926d",
   "metadata": {},
   "source": [
    "### How to Import Pandas as pd and Print the Version Number"
   ]
  },
  {
   "cell_type": "code",
   "execution_count": 1,
   "id": "c604a289",
   "metadata": {},
   "outputs": [
    {
     "name": "stdout",
     "output_type": "stream",
     "text": [
      "1.2.4\n"
     ]
    }
   ],
   "source": [
    "import pandas as pd\n",
    "print(pd.__version__)"
   ]
  },
  {
   "cell_type": "markdown",
   "id": "f070dbe9",
   "metadata": {},
   "source": [
    "## How to Create a Series in Pandas"
   ]
  },
  {
   "cell_type": "markdown",
   "id": "7906236a",
   "metadata": {},
   "source": [
    "### How to Create an Empty Series"
   ]
  },
  {
   "cell_type": "code",
   "execution_count": 9,
   "id": "9d6a1c97",
   "metadata": {},
   "outputs": [
    {
     "data": {
      "text/plain": [
       "Series([], dtype: float64)"
      ]
     },
     "execution_count": 9,
     "metadata": {},
     "output_type": "execute_result"
    }
   ],
   "source": [
    "s = pd.Series(dtype='float64')\n",
    "s"
   ]
  },
  {
   "cell_type": "markdown",
   "id": "fedad4e8",
   "metadata": {},
   "source": [
    "### How to Create a Series From NumPy Array"
   ]
  },
  {
   "cell_type": "code",
   "execution_count": 12,
   "id": "886c86b3",
   "metadata": {},
   "outputs": [
    {
     "data": {
      "text/plain": [
       "0    1\n",
       "1    2\n",
       "2    3\n",
       "3    4\n",
       "4    5\n",
       "dtype: int32"
      ]
     },
     "execution_count": 12,
     "metadata": {},
     "output_type": "execute_result"
    }
   ],
   "source": [
    "import pandas as pd\n",
    "import numpy as np\n",
    "\n",
    "d = np.array([1, 2, 3, 4, 5])\n",
    "s = pd.Series(d)\n",
    "s"
   ]
  },
  {
   "cell_type": "markdown",
   "id": "ca50da34",
   "metadata": {},
   "source": [
    "### How to Create a Series Using List"
   ]
  },
  {
   "cell_type": "code",
   "execution_count": 13,
   "id": "93566482",
   "metadata": {},
   "outputs": [
    {
     "data": {
      "text/plain": [
       "0    1\n",
       "1    2\n",
       "2    3\n",
       "3    4\n",
       "4    5\n",
       "dtype: int64"
      ]
     },
     "execution_count": 13,
     "metadata": {},
     "output_type": "execute_result"
    }
   ],
   "source": [
    "d = [1, 2, 3, 4, 5]\n",
    "s = pd.Series(d)\n",
    "s"
   ]
  },
  {
   "cell_type": "markdown",
   "id": "d482c35f",
   "metadata": {},
   "source": [
    "### How to Create a Series With Index"
   ]
  },
  {
   "cell_type": "code",
   "execution_count": 17,
   "id": "a03912c4",
   "metadata": {},
   "outputs": [
    {
     "data": {
      "text/plain": [
       "one      1\n",
       "two      2\n",
       "three    3\n",
       "four     4\n",
       "five     5\n",
       "dtype: int64"
      ]
     },
     "execution_count": 17,
     "metadata": {},
     "output_type": "execute_result"
    }
   ],
   "source": [
    "d = [1, 2, 3, 4, 5]\n",
    "s = pd.Series(d, index=[\"one\", \"two\", \"three\", \"four\", \"five\"])\n",
    "s"
   ]
  },
  {
   "cell_type": "markdown",
   "id": "3823b230",
   "metadata": {},
   "source": [
    "### How to Create a Series Using Dictionary"
   ]
  },
  {
   "cell_type": "code",
   "execution_count": 15,
   "id": "c822b456",
   "metadata": {},
   "outputs": [
    {
     "data": {
      "text/plain": [
       "one      1\n",
       "two      2\n",
       "three    3\n",
       "four     4\n",
       "five     5\n",
       "dtype: int64"
      ]
     },
     "execution_count": 15,
     "metadata": {},
     "output_type": "execute_result"
    }
   ],
   "source": [
    "d = {\"one\" : 1,\n",
    "     \"two\" : 2,\n",
    "     \"three\" : 3,\n",
    "     \"four\" : 4,\n",
    "     \"five\" : 5}\n",
    "s = pd.Series(d)\n",
    "s"
   ]
  },
  {
   "cell_type": "markdown",
   "id": "7d562150",
   "metadata": {},
   "source": [
    "### How to Create a Series Using Scalar Value"
   ]
  },
  {
   "cell_type": "code",
   "execution_count": 23,
   "id": "f61fad9c",
   "metadata": {},
   "outputs": [
    {
     "data": {
      "text/plain": [
       "a    1\n",
       "b    1\n",
       "c    1\n",
       "d    1\n",
       "dtype: int64"
      ]
     },
     "execution_count": 23,
     "metadata": {},
     "output_type": "execute_result"
    }
   ],
   "source": [
    "s = pd.Series(1, index = [\"a\", \"b\", \"c\", \"d\"])\n",
    "s"
   ]
  },
  {
   "cell_type": "markdown",
   "id": "f1d8127e",
   "metadata": {},
   "source": [
    "## How to Create a Dataframe in Pandas"
   ]
  },
  {
   "cell_type": "markdown",
   "id": "bce4f7a9",
   "metadata": {},
   "source": [
    "### How to Create an Empty DataFrame"
   ]
  },
  {
   "cell_type": "code",
   "execution_count": 3,
   "id": "888a9910",
   "metadata": {},
   "outputs": [
    {
     "name": "stdout",
     "output_type": "stream",
     "text": [
      "Empty DataFrame\n",
      "Columns: []\n",
      "Index: []\n"
     ]
    }
   ],
   "source": [
    "df = pd.DataFrame()\n",
    "print(df)"
   ]
  },
  {
   "cell_type": "markdown",
   "id": "362a499a",
   "metadata": {},
   "source": [
    "### How to Create a DataFrame Using List"
   ]
  },
  {
   "cell_type": "code",
   "execution_count": 8,
   "id": "80794e98",
   "metadata": {},
   "outputs": [
    {
     "name": "stdout",
     "output_type": "stream",
     "text": [
      "            0\n",
      "0         MUO\n",
      "1  technology\n",
      "2  simplified\n"
     ]
    }
   ],
   "source": [
    "listObj = [\"MUO\", \"technology\", \"simplified\"]\n",
    "df = pd.DataFrame(listObj)\n",
    "print(df)"
   ]
  },
  {
   "cell_type": "markdown",
   "id": "32332b88",
   "metadata": {},
   "source": [
    "### How to Create a DataFrame Using Dictionary of ndarray/lists"
   ]
  },
  {
   "cell_type": "code",
   "execution_count": 12,
   "id": "79bfc50c",
   "metadata": {},
   "outputs": [
    {
     "name": "stdout",
     "output_type": "stream",
     "text": [
      "              Movie Name  Year of Release\n",
      "0          Batman Begins             2005\n",
      "1        The Dark Knight             2008\n",
      "2  The Dark Knight Rises             2012\n"
     ]
    }
   ],
   "source": [
    "batmanData = {'Movie Name' : ['Batman Begins', 'The Dark Knight', 'The Dark Knight Rises'],\n",
    "             'Year of Release' : [2005, 2008, 2012]}\n",
    "df = pd.DataFrame(batmanData)\n",
    "print(df)"
   ]
  },
  {
   "cell_type": "markdown",
   "id": "4b3359da",
   "metadata": {},
   "source": [
    "### How to Create a DataFrame Using Lists of Lists"
   ]
  },
  {
   "cell_type": "code",
   "execution_count": 15,
   "id": "96c301ba",
   "metadata": {},
   "outputs": [
    {
     "name": "stdout",
     "output_type": "stream",
     "text": [
      "       Name  Roll No.\n",
      "0      Alex       601\n",
      "1       Bob       602\n",
      "2  Cataline       603\n"
     ]
    }
   ],
   "source": [
    "data = [['Alex', 601], ['Bob', 602], ['Cataline', 603]]\n",
    "df = pd.DataFrame(data, columns = ['Name', 'Roll No.'])\n",
    "print(df)"
   ]
  },
  {
   "cell_type": "markdown",
   "id": "3731f810",
   "metadata": {},
   "source": [
    "### How to Create a DataFrame From List of Dictionaries"
   ]
  },
  {
   "cell_type": "code",
   "execution_count": 18,
   "id": "7708e8d9",
   "metadata": {},
   "outputs": [
    {
     "name": "stdout",
     "output_type": "stream",
     "text": [
      "       Name  Roll No.\n",
      "0      Alex       601\n",
      "1       Bob       602\n",
      "2  Cataline       603\n"
     ]
    }
   ],
   "source": [
    "data = [{'Name': 'Alex', 'Roll No.': 601},\n",
    "        {'Name': 'Bob', 'Roll No.': 602},\n",
    "        {'Name': 'Cataline', 'Roll No.': 603}]\n",
    "df = pd.DataFrame(data)\n",
    "print(df)"
   ]
  },
  {
   "cell_type": "markdown",
   "id": "7e65f589",
   "metadata": {},
   "source": [
    "### How to Create a DataFrame Using zip() Function"
   ]
  },
  {
   "cell_type": "code",
   "execution_count": 19,
   "id": "a3a043ad",
   "metadata": {},
   "outputs": [
    {
     "name": "stdout",
     "output_type": "stream",
     "text": [
      "       Name  Roll No.\n",
      "0      Alex       601\n",
      "1       Bob       602\n",
      "2  Cataline       603\n"
     ]
    }
   ],
   "source": [
    "Name = ['Alex', 'Bob', 'Cataline']\n",
    "RollNo = [601, 602, 603]\n",
    "   \n",
    "listOfTuples = list(zip(Name, RollNo))\n",
    " \n",
    "df = pd.DataFrame(listOfTuples, columns = ['Name', 'Roll No.'])\n",
    "print(df)"
   ]
  },
  {
   "cell_type": "markdown",
   "id": "ecc2b806",
   "metadata": {},
   "source": [
    "## How to Read CSV Files in Python"
   ]
  },
  {
   "cell_type": "code",
   "execution_count": 28,
   "id": "13b9094b",
   "metadata": {},
   "outputs": [
    {
     "name": "stdout",
     "output_type": "stream",
     "text": [
      "    Name       \"Sex\"   \"Age\"   \"Height (in)\"   \"Weight (lbs)\"\n",
      "0   Alex         \"M\"      41              74              170\n",
      "1   Bert         \"M\"      42              68              166\n",
      "2   Carl         \"M\"      32              70              155\n",
      "3   Dave         \"M\"      39              72              167\n",
      "4   Elly         \"F\"      30              66              124\n",
      "5   Fran         \"F\"      33              66              115\n",
      "6   Gwen         \"F\"      26              64              121\n",
      "7   Hank         \"M\"      30              71              158\n",
      "8   Ivan         \"M\"      53              72              175\n",
      "9   Jake         \"M\"      32              69              143\n",
      "10  Kate         \"F\"      47              69              139\n",
      "11  Luke         \"M\"      34              72              163\n",
      "12  Myra         \"F\"      23              62               98\n",
      "13  Neil         \"M\"      36              75              160\n",
      "14  Omar         \"M\"      38              70              145\n",
      "15  Page         \"F\"      31              67              135\n",
      "16  Quin         \"M\"      29              71              176\n",
      "17  Ruth         \"F\"      28              65              131\n"
     ]
    }
   ],
   "source": [
    "df = pd.read_csv('https://raw.githubusercontent.com/Yuvrajchandra/Basic-Operations-Using-Pandas/main/biostats.csv')\n",
    "print(df.to_string())"
   ]
  },
  {
   "cell_type": "markdown",
   "id": "abefe046",
   "metadata": {},
   "source": [
    "## How to Analyze DataFrames Using the head(), tail(), and info() Methods"
   ]
  },
  {
   "cell_type": "markdown",
   "id": "64402a71",
   "metadata": {},
   "source": [
    "### How to View Data Using the head() Method"
   ]
  },
  {
   "cell_type": "code",
   "execution_count": 32,
   "id": "26f87090",
   "metadata": {},
   "outputs": [
    {
     "name": "stdout",
     "output_type": "stream",
     "text": [
      "   Name       \"Sex\"   \"Age\"   \"Height (in)\"   \"Weight (lbs)\"\n",
      "0  Alex         \"M\"      41              74              170\n",
      "1  Bert         \"M\"      42              68              166\n",
      "2  Carl         \"M\"      32              70              155\n",
      "3  Dave         \"M\"      39              72              167\n",
      "4  Elly         \"F\"      30              66              124\n",
      "5  Fran         \"F\"      33              66              115\n",
      "6  Gwen         \"F\"      26              64              121\n",
      "7  Hank         \"M\"      30              71              158\n",
      "8  Ivan         \"M\"      53              72              175\n",
      "9  Jake         \"M\"      32              69              143\n"
     ]
    }
   ],
   "source": [
    "df = pd.read_csv('https://raw.githubusercontent.com/Yuvrajchandra/Basic-Operations-Using-Pandas/main/biostats.csv')\n",
    "print(df.head(10))"
   ]
  },
  {
   "cell_type": "code",
   "execution_count": 34,
   "id": "0904ba9d",
   "metadata": {},
   "outputs": [
    {
     "name": "stdout",
     "output_type": "stream",
     "text": [
      "   Name       \"Sex\"   \"Age\"   \"Height (in)\"   \"Weight (lbs)\"\n",
      "0  Alex         \"M\"      41              74              170\n",
      "1  Bert         \"M\"      42              68              166\n",
      "2  Carl         \"M\"      32              70              155\n",
      "3  Dave         \"M\"      39              72              167\n",
      "4  Elly         \"F\"      30              66              124\n"
     ]
    }
   ],
   "source": [
    "df = pd.read_csv('https://raw.githubusercontent.com/Yuvrajchandra/Basic-Operations-Using-Pandas/main/biostats.csv')\n",
    "print(df.head())"
   ]
  },
  {
   "cell_type": "markdown",
   "id": "894c6793",
   "metadata": {},
   "source": [
    "### How to View Data Using the tail() Method"
   ]
  },
  {
   "cell_type": "code",
   "execution_count": 35,
   "id": "c775bb33",
   "metadata": {},
   "outputs": [
    {
     "name": "stdout",
     "output_type": "stream",
     "text": [
      "    Name       \"Sex\"   \"Age\"   \"Height (in)\"   \"Weight (lbs)\"\n",
      "8   Ivan         \"M\"      53              72              175\n",
      "9   Jake         \"M\"      32              69              143\n",
      "10  Kate         \"F\"      47              69              139\n",
      "11  Luke         \"M\"      34              72              163\n",
      "12  Myra         \"F\"      23              62               98\n",
      "13  Neil         \"M\"      36              75              160\n",
      "14  Omar         \"M\"      38              70              145\n",
      "15  Page         \"F\"      31              67              135\n",
      "16  Quin         \"M\"      29              71              176\n",
      "17  Ruth         \"F\"      28              65              131\n"
     ]
    }
   ],
   "source": [
    "df = pd.read_csv('https://raw.githubusercontent.com/Yuvrajchandra/Basic-Operations-Using-Pandas/main/biostats.csv')\n",
    "print(df.tail(10))"
   ]
  },
  {
   "cell_type": "code",
   "execution_count": 36,
   "id": "274bc1b5",
   "metadata": {},
   "outputs": [
    {
     "name": "stdout",
     "output_type": "stream",
     "text": [
      "    Name       \"Sex\"   \"Age\"   \"Height (in)\"   \"Weight (lbs)\"\n",
      "13  Neil         \"M\"      36              75              160\n",
      "14  Omar         \"M\"      38              70              145\n",
      "15  Page         \"F\"      31              67              135\n",
      "16  Quin         \"M\"      29              71              176\n",
      "17  Ruth         \"F\"      28              65              131\n"
     ]
    }
   ],
   "source": [
    "df = pd.read_csv('https://raw.githubusercontent.com/Yuvrajchandra/Basic-Operations-Using-Pandas/main/biostats.csv')\n",
    "print(df.tail())"
   ]
  },
  {
   "cell_type": "markdown",
   "id": "7958242f",
   "metadata": {},
   "source": [
    "### How to Get Info About the Data"
   ]
  },
  {
   "cell_type": "code",
   "execution_count": 37,
   "id": "80c8b7b8",
   "metadata": {},
   "outputs": [
    {
     "name": "stdout",
     "output_type": "stream",
     "text": [
      "<class 'pandas.core.frame.DataFrame'>\n",
      "RangeIndex: 18 entries, 0 to 17\n",
      "Data columns (total 5 columns):\n",
      " #   Column           Non-Null Count  Dtype \n",
      "---  ------           --------------  ----- \n",
      " 0   Name             18 non-null     object\n",
      " 1        \"Sex\"       18 non-null     object\n",
      " 2    \"Age\"           18 non-null     int64 \n",
      " 3    \"Height (in)\"   18 non-null     int64 \n",
      " 4    \"Weight (lbs)\"  18 non-null     int64 \n",
      "dtypes: int64(3), object(2)\n",
      "memory usage: 848.0+ bytes\n",
      "None\n"
     ]
    }
   ],
   "source": [
    "df = pd.read_csv('https://raw.githubusercontent.com/Yuvrajchandra/Basic-Operations-Using-Pandas/main/biostats.csv')\n",
    "print(df.info())"
   ]
  },
  {
   "cell_type": "markdown",
   "id": "30a8034d",
   "metadata": {},
   "source": [
    "## How to Read JSON Data in Pandas"
   ]
  },
  {
   "cell_type": "code",
   "execution_count": 38,
   "id": "b18f8e48",
   "metadata": {},
   "outputs": [
    {
     "name": "stdout",
     "output_type": "stream",
     "text": [
      "                                                            markers\n",
      "0  {'name': 'Rixos The Palm Dubai', 'position': [25.1212, 55.1535]}\n",
      "1      {'name': 'Shangri-La Hotel', 'location': [25.2084, 55.2719]}\n",
      "2           {'name': 'Grand Hyatt', 'location': [25.2285, 55.3273]}\n"
     ]
    }
   ],
   "source": [
    "df = pd.read_json('https://raw.githubusercontent.com/brandiqa/json-examples/master/src/google_markers.json')\n",
    "print(df.to_string())"
   ]
  },
  {
   "cell_type": "code",
   "execution_count": null,
   "id": "bfedb74e",
   "metadata": {},
   "outputs": [],
   "source": []
  }
 ],
 "metadata": {
  "kernelspec": {
   "display_name": "Python 3",
   "language": "python",
   "name": "python3"
  },
  "language_info": {
   "codemirror_mode": {
    "name": "ipython",
    "version": 3
   },
   "file_extension": ".py",
   "mimetype": "text/x-python",
   "name": "python",
   "nbconvert_exporter": "python",
   "pygments_lexer": "ipython3",
   "version": "3.8.8"
  }
 },
 "nbformat": 4,
 "nbformat_minor": 5
}
